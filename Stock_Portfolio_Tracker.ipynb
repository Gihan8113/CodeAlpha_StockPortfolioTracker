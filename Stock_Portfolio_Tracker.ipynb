{
  "nbformat": 4,
  "nbformat_minor": 0,
  "metadata": {
    "colab": {
      "provenance": [],
      "gpuType": "T4"
    },
    "kernelspec": {
      "name": "python3",
      "display_name": "Python 3"
    },
    "language_info": {
      "name": "python"
    },
    "accelerator": "GPU"
  },
  "cells": [
    {
      "cell_type": "code",
      "execution_count": 1,
      "metadata": {
        "colab": {
          "base_uri": "https://localhost:8080/"
        },
        "id": "SiHMsrCC99D7",
        "outputId": "25a21203-cb98-439b-bcd9-2c89e5015259"
      },
      "outputs": [
        {
          "output_type": "stream",
          "name": "stderr",
          "text": [
            "/usr/local/lib/python3.10/dist-packages/yfinance/base.py:48: FutureWarning: The default dtype for empty Series will be 'object' instead of 'float64' in a future version. Specify a dtype explicitly to silence this warning.\n",
            "  _empty_series = pd.Series()\n"
          ]
        }
      ],
      "source": [
        "# import libraries\n",
        "import pandas as pd\n",
        "import yfinance as yf"
      ]
    },
    {
      "cell_type": "code",
      "source": [
        "# define classes\n",
        "class StockPortfolio:\n",
        "  def __init__(self):\n",
        "    self.portfolio = {}    # initialize an empty dictionary to store portfolio data\n",
        "\n",
        "  def add_stockInvestment(self,symbol,shares):\n",
        "    if symbol in self.portfolio:\n",
        "      self.portfolio[symbol]['Shares']+=shares\n",
        "    else:\n",
        "       self.portfolio[symbol]={'Shares': shares}\n",
        "\n",
        "  def remove_stockTnvestment(self,symbol,shares):\n",
        "     if symbol in self.portfolio:\n",
        "      if self.portfolio[symbol]['Shares']>shares:\n",
        "        self.portfolio[symbol]['Shares']-=shares\n",
        "      else:\n",
        "        del self.portfolio[symbol]\n",
        "\n",
        "  def track_performance(self):\n",
        "      total_value=0\n",
        "      for symbol,data in self.portfolio.items():\n",
        "          try:\n",
        "            stock=yf.Ticker(symbol)\n",
        "            history=stock.history(period='id')\n",
        "            if not history.empty:\n",
        "              current_price=history['Close'].iloc[0]\n",
        "              value=current_price*data['Shares']\n",
        "              print(f\"{symbol}:Shares-{data['Shares']},Current Price-{current_price},Value-{value}\")\n",
        "              total_value+=value\n",
        "            else:\n",
        "               print(f\"Error: No data available for {symbol}. It may be delisted.\")\n",
        "          except IndexError:\n",
        "            print(f\"Error: Failed to retrieve data for {symbol}.\")\n",
        "      print(f\"Total Portfolio Value: {total_value}\")\n"
      ],
      "metadata": {
        "id": "9xPfbWhXBIQe"
      },
      "execution_count": 4,
      "outputs": []
    },
    {
      "cell_type": "code",
      "source": [
        "# Create an instance of the StockPortfolio class\n",
        "portfolio = StockPortfolio()"
      ],
      "metadata": {
        "id": "mYREgJQzKPKS"
      },
      "execution_count": 5,
      "outputs": []
    },
    {
      "cell_type": "code",
      "source": [
        "## Main Program\n",
        "# Display menu options\n",
        "while True:\n",
        "    print(\"\\n1. Add Stock\")\n",
        "    print(\"2. Remove Stock\")\n",
        "    print(\"3. Track Performance\")\n",
        "    print(\"4. Exit\")\n",
        "    choice=input(\"Enter your choice: \")\n",
        "    if choice=='1':\n",
        "        symbol=input(\"Enter stock symbol: \").upper()\n",
        "        shares=int(input(\"Enter number of shares: \"))\n",
        "        portfolio.add_stock(symbol,shares)\n",
        "        print(\"Stock added to portfolio.\")\n",
        "    elif choice=='2':\n",
        "        symbol=input(\"Enter stock symbol to remove: \").upper()\n",
        "        shares=int(input(\"Enter number of shares to remove: \"))\n",
        "        portfolio.remove_stock(symbol,shares)\n",
        "        print(\"Stock removed from portfolio.\")\n",
        "    elif choice=='3':\n",
        "        portfolio.track_performance()\n",
        "    elif choice=='4':\n",
        "        print(\"Exiting\")\n",
        "        break\n",
        "    else:\n",
        "        print(\"Invalid choice, Please try again.\")\n"
      ],
      "metadata": {
        "colab": {
          "base_uri": "https://localhost:8080/"
        },
        "id": "CLeEI9dXK0B_",
        "outputId": "efab6732-9089-4fbb-da76-0425e2f572e0"
      },
      "execution_count": 7,
      "outputs": [
        {
          "output_type": "stream",
          "name": "stdout",
          "text": [
            "\n",
            "1. Add Stock\n",
            "2. Remove Stock\n",
            "3. Track Performance\n",
            "4. Exit\n",
            "Enter your choice: 3\n",
            "Total Portfolio Value: 0\n",
            "\n",
            "1. Add Stock\n",
            "2. Remove Stock\n",
            "3. Track Performance\n",
            "4. Exit\n",
            "Enter your choice: 4\n",
            "Exiting\n"
          ]
        }
      ]
    }
  ]
}